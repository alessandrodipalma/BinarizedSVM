{
 "cells": [
  {
   "cell_type": "code",
   "execution_count": 1,
   "metadata": {
    "collapsed": true
   },
   "outputs": [],
   "source": [
    "import pandas as pd\n",
    "%load_ext autoreload\n",
    "%autoreload 2"
   ]
  },
  {
   "cell_type": "code",
   "execution_count": 44,
   "outputs": [],
   "source": [
    "from load_datasets import *\n",
    "from SVM import BinarizedSVM\n",
    "from sklearn.svm import SVC\n",
    "from sklearn.metrics import accuracy_score\n",
    "import numpy as np"
   ],
   "metadata": {
    "collapsed": false
   }
  },
  {
   "cell_type": "code",
   "execution_count": 54,
   "outputs": [],
   "source": [
    "datasets = load_all()"
   ],
   "metadata": {
    "collapsed": false
   }
  },
  {
   "cell_type": "code",
   "execution_count": null,
   "outputs": [
    {
     "name": "stdout",
     "output_type": "stream",
     "text": [
      "sonar\n"
     ]
    }
   ],
   "source": [
    "performances_df = []\n",
    "for dataset in datasets:\n",
    "    print(dataset['name'])\n",
    "    svm = BinarizedSVM()\n",
    "    svm.fit(dataset['X'], dataset['y'])\n",
    "    y_pred = svm.predict(dataset['X'])\n",
    "    score = accuracy_score(y_pred, dataset['y'])\n",
    "\n",
    "    svc = SVC(kernel='linear')\n",
    "    svc.fit(dataset['X'], dataset['y'])\n",
    "    y_pred = svc.predict(dataset['X'])\n",
    "    sk_score = accuracy_score(y_pred, dataset['y'])\n",
    "\n",
    "    performances_df.append({'dataset': dataset['name'],\n",
    "                            'Baseline': np.sum(dataset['y']==1)/len(dataset['y']),\n",
    "                            'BSVM training acc': score,\n",
    "                            'Sklearn': sk_score})"
   ],
   "metadata": {
    "collapsed": false,
    "pycharm": {
     "is_executing": true
    }
   }
  },
  {
   "cell_type": "code",
   "execution_count": 53,
   "outputs": [
    {
     "data": {
      "text/plain": "   dataset  Baseline  BSVM training acc   Sklearn\n0  housing  0.500000           0.512690  0.888325\n1     pima  0.348958           0.351562  0.777344\n2     bupa  0.579710           0.420290  0.715942",
      "text/html": "<div>\n<style scoped>\n    .dataframe tbody tr th:only-of-type {\n        vertical-align: middle;\n    }\n\n    .dataframe tbody tr th {\n        vertical-align: top;\n    }\n\n    .dataframe thead th {\n        text-align: right;\n    }\n</style>\n<table border=\"1\" class=\"dataframe\">\n  <thead>\n    <tr style=\"text-align: right;\">\n      <th></th>\n      <th>dataset</th>\n      <th>Baseline</th>\n      <th>BSVM training acc</th>\n      <th>Sklearn</th>\n    </tr>\n  </thead>\n  <tbody>\n    <tr>\n      <th>0</th>\n      <td>housing</td>\n      <td>0.500000</td>\n      <td>0.512690</td>\n      <td>0.888325</td>\n    </tr>\n    <tr>\n      <th>1</th>\n      <td>pima</td>\n      <td>0.348958</td>\n      <td>0.351562</td>\n      <td>0.777344</td>\n    </tr>\n    <tr>\n      <th>2</th>\n      <td>bupa</td>\n      <td>0.579710</td>\n      <td>0.420290</td>\n      <td>0.715942</td>\n    </tr>\n  </tbody>\n</table>\n</div>"
     },
     "execution_count": 53,
     "metadata": {},
     "output_type": "execute_result"
    }
   ],
   "source": [
    "pd.DataFrame(performances_df)"
   ],
   "metadata": {
    "collapsed": false
   }
  },
  {
   "cell_type": "code",
   "execution_count": 34,
   "outputs": [
    {
     "data": {
      "text/plain": "array([ 1, -1, -1, -1, -1,  1, -1, -1,  1,  1,  1, -1, -1, -1, -1,  1,  1,\n        1, -1, -1,  1, -1, -1, -1, -1, -1, -1, -1, -1, -1, -1, -1, -1,  1,\n        1, -1, -1, -1, -1, -1,  1,  1, -1, -1,  1, -1, -1, -1, -1, -1, -1,\n       -1,  1,  1, -1, -1, -1, -1, -1, -1,  1,  1,  1,  1,  1, -1, -1, -1,\n        1,  1,  1,  1,  1,  1, -1, -1, -1, -1, -1, -1, -1, -1, -1,  1,  1,\n       -1, -1, -1, -1, -1, -1, -1, -1, -1, -1,  1, -1,  1, -1, -1, -1, -1,\n       -1, -1,  1,  1,  1,  1,  1,  1, -1, -1,  1,  1,  1, -1, -1, -1, -1,\n       -1, -1,  1,  1,  1,  1, -1, -1, -1, -1,  1, -1,  1, -1, -1, -1,  1,\n        1, -1, -1, -1, -1, -1, -1, -1, -1,  1, -1, -1,  1,  1,  1, -1, -1,\n        1,  1, -1,  1, -1, -1,  1, -1, -1, -1, -1, -1, -1, -1, -1, -1, -1,\n       -1, -1, -1, -1, -1, -1, -1, -1, -1, -1, -1, -1, -1, -1, -1, -1,  1,\n        1,  1, -1, -1, -1, -1, -1, -1,  1,  1,  1,  1,  1, -1, -1, -1, -1,\n        1, -1,  1,  1,  1,  1, -1,  1, -1, -1, -1, -1, -1,  1,  1, -1, -1,\n        1,  1,  1, -1, -1,  1,  1, -1, -1, -1, -1,  1,  1,  1,  1,  1, -1,\n       -1, -1, -1, -1,  1,  1,  1,  1, -1, -1, -1, -1, -1,  1,  1,  1, -1,\n       -1, -1,  1,  1,  1,  1,  1,  1, -1, -1, -1, -1,  1,  1,  1, -1, -1,\n       -1, -1, -1, -1,  1], dtype=int64)"
     },
     "execution_count": 34,
     "metadata": {},
     "output_type": "execute_result"
    }
   ],
   "source": [
    "dataset['y'].values"
   ],
   "metadata": {
    "collapsed": false
   }
  }
 ],
 "metadata": {
  "kernelspec": {
   "display_name": "Python 3",
   "language": "python",
   "name": "python3"
  },
  "language_info": {
   "codemirror_mode": {
    "name": "ipython",
    "version": 2
   },
   "file_extension": ".py",
   "mimetype": "text/x-python",
   "name": "python",
   "nbconvert_exporter": "python",
   "pygments_lexer": "ipython2",
   "version": "2.7.6"
  }
 },
 "nbformat": 4,
 "nbformat_minor": 0
}
